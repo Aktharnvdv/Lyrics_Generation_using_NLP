{
  "nbformat": 4,
  "nbformat_minor": 0,
  "metadata": {
    "colab": {
      "name": "SITHAR.ipynb",
      "provenance": [],
      "collapsed_sections": []
    },
    "kernelspec": {
      "name": "python3",
      "display_name": "Python 3"
    },
    "language_info": {
      "name": "python"
    },
    "accelerator": "GPU"
  },
  "cells": [
    {
      "cell_type": "code",
      "metadata": {
        "colab": {
          "base_uri": "https://localhost:8080/"
        },
        "id": "UopR1sVuUrQD",
        "outputId": "c74433ea-f34a-4138-fc76-54ce06bbb329"
      },
      "source": [
        "from google.colab import drive\n",
        "drive.mount('/content/drive/')"
      ],
      "execution_count": 60,
      "outputs": [
        {
          "output_type": "stream",
          "text": [
            "Drive already mounted at /content/drive/; to attempt to forcibly remount, call drive.mount(\"/content/drive/\", force_remount=True).\n"
          ],
          "name": "stdout"
        }
      ]
    },
    {
      "cell_type": "code",
      "metadata": {
        "colab": {
          "base_uri": "https://localhost:8080/"
        },
        "id": "RxsGJQuQVjxn",
        "outputId": "6822309b-bd23-42c7-f7ca-e74b220b6c93"
      },
      "source": [
        "!pip install python-docx\n",
        "!nvidia-smi\n",
        "from tensorflow.keras.preprocessing.text import Tokenizer\n",
        "import docx\n",
        "import re"
      ],
      "execution_count": 61,
      "outputs": [
        {
          "output_type": "stream",
          "text": [
            "Requirement already satisfied: python-docx in /usr/local/lib/python3.7/dist-packages (0.8.11)\n",
            "Requirement already satisfied: lxml>=2.3.2 in /usr/local/lib/python3.7/dist-packages (from python-docx) (4.2.6)\n",
            "Tue May 18 08:43:50 2021       \n",
            "+-----------------------------------------------------------------------------+\n",
            "| NVIDIA-SMI 465.19.01    Driver Version: 460.32.03    CUDA Version: 11.2     |\n",
            "|-------------------------------+----------------------+----------------------+\n",
            "| GPU  Name        Persistence-M| Bus-Id        Disp.A | Volatile Uncorr. ECC |\n",
            "| Fan  Temp  Perf  Pwr:Usage/Cap|         Memory-Usage | GPU-Util  Compute M. |\n",
            "|                               |                      |               MIG M. |\n",
            "|===============================+======================+======================|\n",
            "|   0  Tesla K80           Off  | 00000000:00:04.0 Off |                    0 |\n",
            "| N/A   70C    P8    35W / 149W |      0MiB / 11441MiB |      0%      Default |\n",
            "|                               |                      |                  N/A |\n",
            "+-------------------------------+----------------------+----------------------+\n",
            "                                                                               \n",
            "+-----------------------------------------------------------------------------+\n",
            "| Processes:                                                                  |\n",
            "|  GPU   GI   CI        PID   Type   Process name                  GPU Memory |\n",
            "|        ID   ID                                                   Usage      |\n",
            "|=============================================================================|\n",
            "|  No running processes found                                                 |\n",
            "+-----------------------------------------------------------------------------+\n"
          ],
          "name": "stdout"
        }
      ]
    },
    {
      "cell_type": "code",
      "metadata": {
        "id": "elL3dafB6PZl"
      },
      "source": [
        "class data_processing:\n",
        "  \n",
        "  def __init__(self,max_vocab , sequence_length):\n",
        "    self.sequence_length = sequence_length\n",
        "    self.max_vocab = max_vocab\n",
        "    self.tokenizer = Tokenizer(num_words = self.max_vocab)\n",
        "    self.text = getText(\"/content/drive/My Drive/sitharasongs.docx\")\n",
        "\n",
        "    self.lower_data = self.text.lower()           \n",
        "    self.split_data = self.lower_data.splitlines()      \n",
        "    self.final = ''     \n",
        "\n",
        "    for line in self.split_data:\n",
        "        line = clean_text(line)\n",
        "        self.final += '\\n' + line\n",
        "\n",
        "    self.final_data = self.final.split('\\n')       \n",
        "    self.tokenizer.fit_on_texts(self.final_data)\n",
        "    self.word2idx = self.tokenizer.word_index\n",
        "    self.idx2word = dict(map(reversed, self.word2idx.items()))\n",
        "    self.words = self.word2idx.keys()\n",
        "    self.words_indexes = [self.word2idx[w] for w in self.words]\n",
        "\n",
        "  def data_xy(self,index):    \n",
        "      x = self.words_indexes[index:index+self.sequence_length]\n",
        "      y = self.words_indexes[index+1:index+self.sequence_length+1]\n",
        "      return {\"X\":x , \"Y\":y}\n",
        "   \n",
        "  def getText(self,filename):\n",
        "      doc = docx.Document(filename)\n",
        "      fullText = []\n",
        "      for para in doc.paragraphs:\n",
        "          fullText.append(para.text)\n",
        "      return '\\n'.join(fullText)\n",
        "\n",
        "  def clean_text(self,text):\n",
        "      text = re.sub(r',', '', text)\n",
        "      text = re.sub(r'\\'', '',  text)\n",
        "      text = re.sub(r'\\\"', '', text)\n",
        "      text = re.sub(r'\\(', '', text)\n",
        "      text = re.sub(r'\\)', '', text)\n",
        "      text = re.sub(r'\\n', '', text)\n",
        "      text = re.sub(r'“', '', text)\n",
        "      text = re.sub(r'”', '', text)\n",
        "      text = re.sub(r'’', '', text)\n",
        "      text = re.sub(r'\\.', '', text)\n",
        "      text = re.sub(r';', '', text)\n",
        "      text = re.sub(r':', '', text)\n",
        "      text = re.sub(r'\\-', '', text)\n",
        "      return text\n",
        "  "
      ],
      "execution_count": 74,
      "outputs": []
    },
    {
      "cell_type": "code",
      "metadata": {
        "colab": {
          "base_uri": "https://localhost:8080/"
        },
        "id": "fCRcQP0vZQ2Q",
        "outputId": "946eb01c-ca22-4190-d817-c95d42fe2b77"
      },
      "source": [
        "df = data_processing(100000,sequence_length = 15)\n",
        "df_data = df.data_xy(5)\n",
        "print(df_data[\"X\"])\n",
        "print(df_data[\"Y\"])"
      ],
      "execution_count": 75,
      "outputs": [
        {
          "output_type": "stream",
          "text": [
            "[6, 7, 8, 9, 10, 11, 12, 13, 14, 15, 16, 17, 18, 19, 20]\n",
            "[7, 8, 9, 10, 11, 12, 13, 14, 15, 16, 17, 18, 19, 20, 21]\n"
          ],
          "name": "stdout"
        }
      ]
    },
    {
      "cell_type": "code",
      "metadata": {
        "id": "S2FA9tOipdPP"
      },
      "source": [
        ""
      ],
      "execution_count": null,
      "outputs": []
    }
  ]
}